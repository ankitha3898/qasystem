{
 "cells": [
  {
   "cell_type": "code",
   "execution_count": 39,
   "id": "5248340e",
   "metadata": {},
   "outputs": [],
   "source": [
    "import numpy as np\n",
    "import pandas as pd\n",
    "import string"
   ]
  },
  {
   "cell_type": "code",
   "execution_count": 40,
   "id": "9c8ea7c9",
   "metadata": {},
   "outputs": [],
   "source": [
    "data=pd.read_csv(r'./Book1.csv')"
   ]
  },
  {
   "cell_type": "code",
   "execution_count": 41,
   "id": "4d8bfdaa",
   "metadata": {},
   "outputs": [
    {
     "data": {
      "text/html": [
       "<div>\n",
       "<style scoped>\n",
       "    .dataframe tbody tr th:only-of-type {\n",
       "        vertical-align: middle;\n",
       "    }\n",
       "\n",
       "    .dataframe tbody tr th {\n",
       "        vertical-align: top;\n",
       "    }\n",
       "\n",
       "    .dataframe thead th {\n",
       "        text-align: right;\n",
       "    }\n",
       "</style>\n",
       "<table border=\"1\" class=\"dataframe\">\n",
       "  <thead>\n",
       "    <tr style=\"text-align: right;\">\n",
       "      <th></th>\n",
       "      <th>questions</th>\n",
       "      <th>answers</th>\n",
       "    </tr>\n",
       "  </thead>\n",
       "  <tbody>\n",
       "    <tr>\n",
       "      <th>0</th>\n",
       "      <td>what is ai?</td>\n",
       "      <td>AI, or Artificial Intelligence, refers to the ...</td>\n",
       "    </tr>\n",
       "    <tr>\n",
       "      <th>1</th>\n",
       "      <td>what is machine learning?</td>\n",
       "      <td>Machine Learning (ML) is a subset of artificia...</td>\n",
       "    </tr>\n",
       "    <tr>\n",
       "      <th>2</th>\n",
       "      <td>what is deep learning ?</td>\n",
       "      <td>Deep Learning is a subset of machine learning ...</td>\n",
       "    </tr>\n",
       "    <tr>\n",
       "      <th>3</th>\n",
       "      <td>why statistics are useful in ml?</td>\n",
       "      <td>Data Understanding and Preprocessing: Statisti...</td>\n",
       "    </tr>\n",
       "    <tr>\n",
       "      <th>4</th>\n",
       "      <td>what is nlp</td>\n",
       "      <td>NLP, or Natural Language Processing, is a subf...</td>\n",
       "    </tr>\n",
       "    <tr>\n",
       "      <th>5</th>\n",
       "      <td>what is sentiment analysis</td>\n",
       "      <td>Sentiment Analysis, also known as Opinion Mini...</td>\n",
       "    </tr>\n",
       "    <tr>\n",
       "      <th>6</th>\n",
       "      <td>what are the types of supervised learning</td>\n",
       "      <td>Supervised learning is a type of machine learn...</td>\n",
       "    </tr>\n",
       "    <tr>\n",
       "      <th>7</th>\n",
       "      <td>what is classification</td>\n",
       "      <td>Classification is a fundamental concept in mac...</td>\n",
       "    </tr>\n",
       "    <tr>\n",
       "      <th>8</th>\n",
       "      <td>what is regression</td>\n",
       "      <td>Regression is a type of supervised machine lea...</td>\n",
       "    </tr>\n",
       "    <tr>\n",
       "      <th>9</th>\n",
       "      <td>what is neural network</td>\n",
       "      <td>Neural networks are a class of machine learnin...</td>\n",
       "    </tr>\n",
       "    <tr>\n",
       "      <th>10</th>\n",
       "      <td>what are neurons</td>\n",
       "      <td>In the context of neural networks and artifici...</td>\n",
       "    </tr>\n",
       "  </tbody>\n",
       "</table>\n",
       "</div>"
      ],
      "text/plain": [
       "                                    questions  \\\n",
       "0                                 what is ai?   \n",
       "1                   what is machine learning?   \n",
       "2                     what is deep learning ?   \n",
       "3            why statistics are useful in ml?   \n",
       "4                                 what is nlp   \n",
       "5                  what is sentiment analysis   \n",
       "6   what are the types of supervised learning   \n",
       "7                      what is classification   \n",
       "8                          what is regression   \n",
       "9                      what is neural network   \n",
       "10                           what are neurons   \n",
       "\n",
       "                                              answers  \n",
       "0   AI, or Artificial Intelligence, refers to the ...  \n",
       "1   Machine Learning (ML) is a subset of artificia...  \n",
       "2   Deep Learning is a subset of machine learning ...  \n",
       "3   Data Understanding and Preprocessing: Statisti...  \n",
       "4   NLP, or Natural Language Processing, is a subf...  \n",
       "5   Sentiment Analysis, also known as Opinion Mini...  \n",
       "6   Supervised learning is a type of machine learn...  \n",
       "7   Classification is a fundamental concept in mac...  \n",
       "8   Regression is a type of supervised machine lea...  \n",
       "9   Neural networks are a class of machine learnin...  \n",
       "10  In the context of neural networks and artifici...  "
      ]
     },
     "execution_count": 41,
     "metadata": {},
     "output_type": "execute_result"
    }
   ],
   "source": [
    "data"
   ]
  },
  {
   "cell_type": "markdown",
   "id": "ba4f6bcb",
   "metadata": {},
   "source": [
    "# remove special charcreters"
   ]
  },
  {
   "cell_type": "code",
   "execution_count": 42,
   "id": "4e898252",
   "metadata": {},
   "outputs": [],
   "source": [
    "# data['answers']=data['answers'].apply(lambda x:x.replace(c,'') for c in string.punctuation)\n",
    "# df['cleaned'] = df['old'].apply(lambda x: x.replace(c,'') for c in string.punctuation)\n",
    "data['answers'] = data['answers'].apply(lambda x:''.join([i for i in x \n",
    "                                                  if i not in string.punctuation]))\n"
   ]
  },
  {
   "cell_type": "markdown",
   "id": "d6f7e9f5",
   "metadata": {},
   "source": [
    "# changing into lower"
   ]
  },
  {
   "cell_type": "code",
   "execution_count": 43,
   "id": "6533f1ac",
   "metadata": {},
   "outputs": [],
   "source": [
    "data['answers']=data['answers'].apply(lambda x:x.lower())"
   ]
  },
  {
   "cell_type": "markdown",
   "id": "5adbdc0f",
   "metadata": {},
   "source": [
    "# input question and answer"
   ]
  },
  {
   "cell_type": "code",
   "execution_count": 44,
   "id": "254ce235",
   "metadata": {},
   "outputs": [
    {
     "name": "stdout",
     "output_type": "stream",
     "text": [
      "enter the question number6\n",
      "enter the ansededg\n"
     ]
    }
   ],
   "source": [
    "ind=int(input('enter the question number'))\n",
    "y=input('enter the ans')"
   ]
  },
  {
   "cell_type": "code",
   "execution_count": 45,
   "id": "1a0057fe",
   "metadata": {},
   "outputs": [],
   "source": [
    "answers=data['answers']"
   ]
  },
  {
   "cell_type": "code",
   "execution_count": 46,
   "id": "5e8447d5",
   "metadata": {},
   "outputs": [
    {
     "data": {
      "text/plain": [
       "'in the context of neural networks and artificial neural networks neurons also referred to as nodes or artificial neurons are the basic computational units that process and transmit information within the network these artificial neurons are inspired by the neurons found in the human brain but are highly simplified computational models designed for machine learning and deep learning tasks'"
      ]
     },
     "execution_count": 46,
     "metadata": {},
     "output_type": "execute_result"
    }
   ],
   "source": [
    "answers.iloc[-1]"
   ]
  },
  {
   "cell_type": "code",
   "execution_count": 47,
   "id": "8acb62af",
   "metadata": {},
   "outputs": [],
   "source": [
    "answers.loc[len(answers.index)]=y"
   ]
  },
  {
   "cell_type": "code",
   "execution_count": 48,
   "id": "5aba8d5d",
   "metadata": {},
   "outputs": [
    {
     "data": {
      "text/plain": [
       "0     ai or artificial intelligence refers to the si...\n",
       "1     machine learning ml is a subset of artificial ...\n",
       "2     deep learning is a subset of machine learning ...\n",
       "3     data understanding and preprocessing statistic...\n",
       "4     nlp or natural language processing is a subfie...\n",
       "5     sentiment analysis also known as opinion minin...\n",
       "6     supervised learning is a type of machine learn...\n",
       "7     classification is a fundamental concept in mac...\n",
       "8     regression is a type of supervised machine lea...\n",
       "9     neural networks are a class of machine learnin...\n",
       "10    in the context of neural networks and artifici...\n",
       "11                                                ededg\n",
       "Name: answers, dtype: object"
      ]
     },
     "execution_count": 48,
     "metadata": {},
     "output_type": "execute_result"
    }
   ],
   "source": [
    "answers"
   ]
  },
  {
   "cell_type": "code",
   "execution_count": null,
   "id": "1593e196",
   "metadata": {},
   "outputs": [],
   "source": []
  },
  {
   "cell_type": "code",
   "execution_count": 49,
   "id": "0e79614e",
   "metadata": {},
   "outputs": [],
   "source": [
    "from sklearn.feature_extraction.text import TfidfVectorizer\n",
    "v=TfidfVectorizer()\n",
    "x=v.fit_transform(data['answers'])"
   ]
  },
  {
   "cell_type": "code",
   "execution_count": 50,
   "id": "07b2c75a",
   "metadata": {},
   "outputs": [],
   "source": [
    "x1=x.todense()\n"
   ]
  },
  {
   "cell_type": "code",
   "execution_count": null,
   "id": "e1bdaf11",
   "metadata": {},
   "outputs": [],
   "source": []
  },
  {
   "cell_type": "code",
   "execution_count": 51,
   "id": "7603b35f",
   "metadata": {},
   "outputs": [],
   "source": [
    "from sklearn.metrics.pairwise import cosine_similarity,linear_kernel\n",
    "cosine=cosine_similarity(x[-1],x[ind-1])"
   ]
  },
  {
   "cell_type": "code",
   "execution_count": 52,
   "id": "b10bf994",
   "metadata": {},
   "outputs": [
    {
     "data": {
      "text/plain": [
       "array([[0.10009848]])"
      ]
     },
     "execution_count": 52,
     "metadata": {},
     "output_type": "execute_result"
    }
   ],
   "source": [
    "cosine"
   ]
  },
  {
   "cell_type": "code",
   "execution_count": null,
   "id": "a4832078",
   "metadata": {},
   "outputs": [],
   "source": []
  },
  {
   "cell_type": "code",
   "execution_count": null,
   "id": "fad73b01",
   "metadata": {},
   "outputs": [],
   "source": []
  },
  {
   "cell_type": "code",
   "execution_count": null,
   "id": "a0277727",
   "metadata": {},
   "outputs": [],
   "source": []
  }
 ],
 "metadata": {
  "kernelspec": {
   "display_name": "Python 3 (ipykernel)",
   "language": "python",
   "name": "python3"
  },
  "language_info": {
   "codemirror_mode": {
    "name": "ipython",
    "version": 3
   },
   "file_extension": ".py",
   "mimetype": "text/x-python",
   "name": "python",
   "nbconvert_exporter": "python",
   "pygments_lexer": "ipython3",
   "version": "3.10.9"
  }
 },
 "nbformat": 4,
 "nbformat_minor": 5
}
